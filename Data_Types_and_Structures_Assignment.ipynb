{
 "cells": [
  {
   "cell_type": "markdown",
   "id": "3b74b18a",
   "metadata": {},
   "source": [
    "### 1. What are data structures, and why are they important?\n",
    "\n",
    "Data structures are specialized formats for organizing, processing, retrieving, and storing data. They are important because they help in efficiently managing large amounts of data, enabling optimized performance for various operations like searching, sorting, and updating."
   ]
  },
  {
   "cell_type": "markdown",
   "id": "3197c08c",
   "metadata": {},
   "source": [
    "### 2. Explain the difference between mutable and immutable data types with examples.\n",
    "\n",
    "Mutable data types can be changed after creation (e.g., lists, dictionaries, sets), whereas immutable data types cannot be modified after creation (e.g., strings, tuples, integers). Example: `list = [1, 2]` is mutable, while `tuple = (1, 2)` is immutable."
   ]
  },
  {
   "cell_type": "markdown",
   "id": "8da02fcc",
   "metadata": {},
   "source": [
    "### 3. What are the main differences between lists and tuples in Python?\n",
    "\n",
    "Lists are mutable, use square brackets `[]`, and allow dynamic changes. Tuples are immutable, use parentheses `()`, and are generally faster and more memory-efficient."
   ]
  },
  {
   "cell_type": "markdown",
   "id": "be91bae1",
   "metadata": {},
   "source": [
    "### 4. Describe how dictionaries store data.\n",
    "\n",
    "Dictionaries store data as key-value pairs using a hash table internally. Each key maps to a specific value, allowing for fast data retrieval."
   ]
  },
  {
   "cell_type": "markdown",
   "id": "add1273c",
   "metadata": {},
   "source": [
    "### 5. Why might you use a set instead of a list in Python?\n",
    "\n",
    "Sets do not allow duplicate values and offer faster membership testing. They are ideal when uniqueness of elements is important."
   ]
  },
  {
   "cell_type": "markdown",
   "id": "ec176167",
   "metadata": {},
   "source": [
    "### 6. What is a string in Python, and how is it different from a list?\n",
    "\n",
    "A string is an immutable sequence of characters, while a list is a mutable collection of items. Strings cannot be changed in place, but lists can."
   ]
  },
  {
   "cell_type": "markdown",
   "id": "817ae66c",
   "metadata": {},
   "source": [
    "### 7. How do tuples ensure data integrity in Python?\n",
    "\n",
    "Tuples are immutable, which means their contents cannot be changed. This ensures that data remains constant and is protected from accidental modification."
   ]
  },
  {
   "cell_type": "markdown",
   "id": "a669f0c7",
   "metadata": {},
   "source": [
    "### 8. What is a hash table, and how does it relate to dictionaries in Python?\n",
    "\n",
    "A hash table is a data structure that maps keys to values using a hash function. Python dictionaries use hash tables for fast access to elements via keys."
   ]
  },
  {
   "cell_type": "markdown",
   "id": "eea14571",
   "metadata": {},
   "source": [
    "### 9. Can lists contain different data types in Python?\n",
    "\n",
    "Yes, Python lists can contain elements of different data types including integers, strings, lists, tuples, etc."
   ]
  },
  {
   "cell_type": "markdown",
   "id": "889bc1e3",
   "metadata": {},
   "source": [
    "### 10. Explain why strings are immutable in Python.\n",
    "\n",
    "Strings are immutable to improve performance and security. This also allows them to be used as keys in dictionaries and elements in sets."
   ]
  },
  {
   "cell_type": "markdown",
   "id": "e1259e6a",
   "metadata": {},
   "source": [
    "### 11. What advantages do dictionaries offer over lists for certain tasks?\n",
    "\n",
    "Dictionaries offer fast access to data via keys, which is more efficient than searching through a list, especially for large datasets."
   ]
  },
  {
   "cell_type": "markdown",
   "id": "39c13c97",
   "metadata": {},
   "source": [
    "### 12. Describe a scenario where using a tuple would be preferable over a list.\n",
    "\n",
    "Tuples are preferable when data should not change, such as coordinates (latitude, longitude), or as keys in a dictionary."
   ]
  },
  {
   "cell_type": "markdown",
   "id": "68856b68",
   "metadata": {},
   "source": [
    "### 13. How do sets handle duplicate values in Python?\n",
    "\n",
    "Sets automatically remove duplicates and store only unique values."
   ]
  },
  {
   "cell_type": "markdown",
   "id": "0e266c24",
   "metadata": {},
   "source": [
    "### 14. How does the “in” keyword work differently for lists and dictionaries?\n",
    "\n",
    "`in` checks for values in a list but checks for keys in a dictionary."
   ]
  },
  {
   "cell_type": "markdown",
   "id": "ebd1082b",
   "metadata": {},
   "source": [
    "### 15. Can you modify the elements of a tuple? Explain why or why not.\n",
    "\n",
    "No, tuples are immutable. Once created, their contents cannot be altered."
   ]
  },
  {
   "cell_type": "markdown",
   "id": "56d6cd90",
   "metadata": {},
   "source": [
    "### 16. What is a nested dictionary, and give an example of its use case.\n",
    "\n",
    "A nested dictionary is a dictionary within another dictionary. Example: `{'student': {'name': 'Alice', 'age': 20}}` is useful for representing structured data."
   ]
  },
  {
   "cell_type": "markdown",
   "id": "dc546c58",
   "metadata": {},
   "source": [
    "### 17. Describe the time complexity of accessing elements in a dictionary.\n",
    "\n",
    "Accessing elements in a dictionary is on average O(1), thanks to hash table implementation."
   ]
  },
  {
   "cell_type": "markdown",
   "id": "98a2410d",
   "metadata": {},
   "source": [
    "### 18. In what situations are lists preferred over dictionaries?\n",
    "\n",
    "Lists are preferred when order matters or when dealing with simple sequences without named keys."
   ]
  },
  {
   "cell_type": "markdown",
   "id": "d5dca700",
   "metadata": {},
   "source": [
    "### 19. Why are dictionaries considered unordered, and how does that affect data retrieval?\n",
    "\n",
    "Historically, dictionaries were unordered (before Python 3.7). Now they maintain insertion order but are still accessed via keys, not position."
   ]
  },
  {
   "cell_type": "markdown",
   "id": "501da384",
   "metadata": {},
   "source": [
    "### 20. Explain the difference between a list and a dictionary in terms of data retrieval.\n",
    "\n",
    "Lists retrieve data by index (position), whereas dictionaries retrieve data by key."
   ]
  },
  {
   "cell_type": "markdown",
   "id": "47022a9a",
   "metadata": {},
   "source": [
    "# Practical Questions"
   ]
  },
  {
   "cell_type": "code",
   "execution_count": 61,
   "id": "246237db",
   "metadata": {},
   "outputs": [
    {
     "name": "stdout",
     "output_type": "stream",
     "text": [
      "Satish\n"
     ]
    }
   ],
   "source": [
    "# 1. Create a string with your name and print it\n",
    "name = \"Satish\"\n",
    "print(name)\n"
   ]
  },
  {
   "cell_type": "code",
   "execution_count": 62,
   "id": "63c46013",
   "metadata": {},
   "outputs": [
    {
     "name": "stdout",
     "output_type": "stream",
     "text": [
      "11\n"
     ]
    }
   ],
   "source": [
    "# 2. Find the length of the string \"Hello World\"\n",
    "s = \"Hello World\"\n",
    "print(len(s))\n"
   ]
  },
  {
   "cell_type": "code",
   "execution_count": 63,
   "id": "bae615cb",
   "metadata": {},
   "outputs": [
    {
     "name": "stdout",
     "output_type": "stream",
     "text": [
      "Pyt\n"
     ]
    }
   ],
   "source": [
    "# 3. Slice the first 3 characters from the string \"Python Programming\"\n",
    "s = \"Python Programming\"\n",
    "print(s[:3])\n"
   ]
  },
  {
   "cell_type": "code",
   "execution_count": 64,
   "id": "8ecb4ba4",
   "metadata": {},
   "outputs": [
    {
     "name": "stdout",
     "output_type": "stream",
     "text": [
      "HELLO\n"
     ]
    }
   ],
   "source": [
    "# 4. Convert the string \"hello\" to uppercase\n",
    "print(\"hello\".upper())\n"
   ]
  },
  {
   "cell_type": "code",
   "execution_count": 65,
   "id": "c9f2bda3",
   "metadata": {},
   "outputs": [
    {
     "name": "stdout",
     "output_type": "stream",
     "text": [
      "I like orange\n"
     ]
    }
   ],
   "source": [
    "# 5. Replace \"apple\" with \"orange\" in the string \"I like apple\"\n",
    "s = \"I like apple\"\n",
    "print(s.replace(\"apple\", \"orange\"))\n"
   ]
  },
  {
   "cell_type": "code",
   "execution_count": 66,
   "id": "962ecff7",
   "metadata": {},
   "outputs": [
    {
     "name": "stdout",
     "output_type": "stream",
     "text": [
      "[1, 2, 3, 4, 5]\n"
     ]
    }
   ],
   "source": [
    "# 6. Create a list with numbers 1 to 5 and print it\n",
    "numbers = [1, 2, 3, 4, 5]\n",
    "print(numbers)\n"
   ]
  },
  {
   "cell_type": "code",
   "execution_count": 67,
   "id": "3dbfecaa",
   "metadata": {},
   "outputs": [
    {
     "name": "stdout",
     "output_type": "stream",
     "text": [
      "[1, 2, 3, 4, 10]\n"
     ]
    }
   ],
   "source": [
    "# 7. Append the number 10 to the list [1, 2, 3, 4]\n",
    "lst = [1, 2, 3, 4]\n",
    "lst.append(10)\n",
    "print(lst)\n"
   ]
  },
  {
   "cell_type": "code",
   "execution_count": 68,
   "id": "ef898bb1",
   "metadata": {},
   "outputs": [
    {
     "name": "stdout",
     "output_type": "stream",
     "text": [
      "[1, 2, 4, 5]\n"
     ]
    }
   ],
   "source": [
    "# 8. Remove the number 3 from the list [1, 2, 3, 4, 5]\n",
    "lst = [1, 2, 3, 4, 5]\n",
    "lst.remove(3)\n",
    "print(lst)\n"
   ]
  },
  {
   "cell_type": "code",
   "execution_count": 69,
   "id": "fb0e8567",
   "metadata": {},
   "outputs": [
    {
     "name": "stdout",
     "output_type": "stream",
     "text": [
      "b\n"
     ]
    }
   ],
   "source": [
    "# 9. Access the second element in the list ['a', 'b', 'c', 'd']\n",
    "letters = ['a', 'b', 'c', 'd']\n",
    "print(letters[1])\n"
   ]
  },
  {
   "cell_type": "code",
   "execution_count": 70,
   "id": "656275f5",
   "metadata": {},
   "outputs": [
    {
     "name": "stdout",
     "output_type": "stream",
     "text": [
      "[50, 40, 30, 20, 10]\n"
     ]
    }
   ],
   "source": [
    "# 10. Reverse the list [10, 20, 30, 40, 50]\n",
    "lst = [10, 20, 30, 40, 50]\n",
    "lst.reverse()\n",
    "print(lst)\n"
   ]
  },
  {
   "cell_type": "code",
   "execution_count": 71,
   "id": "f1f594af",
   "metadata": {},
   "outputs": [
    {
     "name": "stdout",
     "output_type": "stream",
     "text": [
      "(100, 200, 300)\n"
     ]
    }
   ],
   "source": [
    "# 11. Create a tuple with the elements 100, 200, 300 and print it\n",
    "tpl = (100, 200, 300)\n",
    "print(tpl)\n"
   ]
  },
  {
   "cell_type": "code",
   "execution_count": 72,
   "id": "719dc6b8",
   "metadata": {},
   "outputs": [
    {
     "name": "stdout",
     "output_type": "stream",
     "text": [
      "blue\n"
     ]
    }
   ],
   "source": [
    "# 12. Access the second-to-last element of the tuple ('red', 'green', 'blue', 'yellow')\n",
    "colors = ('red', 'green', 'blue', 'yellow')\n",
    "print(colors[-2])\n"
   ]
  },
  {
   "cell_type": "code",
   "execution_count": 73,
   "id": "c7868ceb",
   "metadata": {},
   "outputs": [
    {
     "name": "stdout",
     "output_type": "stream",
     "text": [
      "5\n"
     ]
    }
   ],
   "source": [
    "# 13. Find the minimum number in the tuple (10, 20, 5, 15)\n",
    "tpl = (10, 20, 5, 15)\n",
    "print(min(tpl))\n"
   ]
  },
  {
   "cell_type": "code",
   "execution_count": 1,
   "id": "9f180118",
   "metadata": {},
   "outputs": [
    {
     "name": "stdout",
     "output_type": "stream",
     "text": [
      "1\n"
     ]
    }
   ],
   "source": [
    "# 14. Find the index of \"cat\" in the tuple ('dog', 'cat', 'rabbit')\n",
    "animals = ('dog', 'cat', 'rabbit')\n",
    "print(animals.index('cat'))\n"
   ]
  },
  {
   "cell_type": "code",
   "execution_count": 2,
   "id": "797c4578",
   "metadata": {},
   "outputs": [
    {
     "name": "stdout",
     "output_type": "stream",
     "text": [
      "False\n"
     ]
    }
   ],
   "source": [
    "# 15. Create a tuple with fruits and check if \"kiwi\" is in it\n",
    "fruits = (\"pomegranate\", \"guava\", \"mango\")\n",
    "print(\"kiwi\" in fruits)\n"
   ]
  },
  {
   "cell_type": "code",
   "execution_count": 76,
   "id": "d24bc4ee",
   "metadata": {},
   "outputs": [
    {
     "name": "stdout",
     "output_type": "stream",
     "text": [
      "{'c', 'a', 'b'}\n"
     ]
    }
   ],
   "source": [
    "# 16. Create a set with the elements 'a', 'b', 'c' and print it\n",
    "my_set = {'a', 'b', 'c'}\n",
    "print(my_set)\n"
   ]
  },
  {
   "cell_type": "code",
   "execution_count": 77,
   "id": "b82c0abe",
   "metadata": {},
   "outputs": [
    {
     "name": "stdout",
     "output_type": "stream",
     "text": [
      "set()\n"
     ]
    }
   ],
   "source": [
    "# 17. Clear all elements from the set {1, 2, 3, 4, 5}\n",
    "s = {1, 2, 3, 4, 5}\n",
    "s.clear()\n",
    "print(s)\n"
   ]
  },
  {
   "cell_type": "code",
   "execution_count": 78,
   "id": "6f1c5fbd",
   "metadata": {},
   "outputs": [
    {
     "name": "stdout",
     "output_type": "stream",
     "text": [
      "{1, 2, 3}\n"
     ]
    }
   ],
   "source": [
    "# 18. Remove the element 4 from the set {1, 2, 3, 4}\n",
    "s = {1, 2, 3, 4}\n",
    "s.remove(4)\n",
    "print(s)\n"
   ]
  },
  {
   "cell_type": "code",
   "execution_count": 79,
   "id": "a8d9e76f",
   "metadata": {},
   "outputs": [
    {
     "name": "stdout",
     "output_type": "stream",
     "text": [
      "{1, 2, 3, 4, 5}\n"
     ]
    }
   ],
   "source": [
    "# 19. Find the union of two sets {1, 2, 3} and {3, 4, 5}\n",
    "a = {1, 2, 3}\n",
    "b = {3, 4, 5}\n",
    "print(a.union(b))"
   ]
  },
  {
   "cell_type": "code",
   "execution_count": 80,
   "id": "8025d95b",
   "metadata": {},
   "outputs": [
    {
     "name": "stdout",
     "output_type": "stream",
     "text": [
      "{2, 3}\n"
     ]
    }
   ],
   "source": [
    "# 20. Find the intersection of two sets {1, 2, 3} and {2, 3, 4}\n",
    "a = {1, 2, 3}\n",
    "b = {2, 3, 4}\n",
    "print(a.intersection(b))"
   ]
  },
  {
   "cell_type": "code",
   "execution_count": 3,
   "id": "373b54bf",
   "metadata": {},
   "outputs": [
    {
     "name": "stdout",
     "output_type": "stream",
     "text": [
      "{'name': 'Satish', 'age': 25, 'city': 'Delhi'}\n"
     ]
    }
   ],
   "source": [
    "# 21. Create a dictionary with the keys \"name\", \"age\", and \"city\", and print it\n",
    "person = {\n",
    "    \"name\": \"Satish\",\n",
    "    \"age\": 25,\n",
    "    \"city\": \"Delhi\"\n",
    "}\n",
    "print(person)\n"
   ]
  },
  {
   "cell_type": "code",
   "execution_count": 4,
   "id": "739b8fbe",
   "metadata": {},
   "outputs": [
    {
     "name": "stdout",
     "output_type": "stream",
     "text": [
      "{'name': 'John', 'age': 25, 'country': 'USA'}\n"
     ]
    }
   ],
   "source": [
    "# 22. Write a code to add a new key-value pair \"country\": \"USA\" to the dictionary {'name': 'John', 'age': 25}\n",
    "person = {'name': 'John', 'age': 25}\n",
    "person[\"country\"] = \"USA\"\n",
    "print(person)"
   ]
  },
  {
   "cell_type": "code",
   "execution_count": 83,
   "id": "528ab563",
   "metadata": {},
   "outputs": [
    {
     "name": "stdout",
     "output_type": "stream",
     "text": [
      "Alice\n"
     ]
    }
   ],
   "source": [
    "# 23. Write a code to access the value associated with the key \"name\" in the dictionary {'name': 'Alice', 'age': 30}\n",
    "person = {'name': 'Alice', 'age': 30}\n",
    "print(person[\"name\"])"
   ]
  },
  {
   "cell_type": "code",
   "execution_count": 84,
   "id": "3aba1644",
   "metadata": {},
   "outputs": [
    {
     "name": "stdout",
     "output_type": "stream",
     "text": [
      "{'name': 'Bob', 'city': 'New York'}\n"
     ]
    }
   ],
   "source": [
    "# 24. Write a code to remove the key \"age\" from the dictionary {'name': 'Bob', 'age': 22, 'city': 'New York'}\n",
    "person = {'name': 'Bob', 'age': 22, 'city': 'New York'}\n",
    "del person[\"age\"]\n",
    "print(person)"
   ]
  },
  {
   "cell_type": "code",
   "execution_count": 85,
   "id": "662de82e",
   "metadata": {},
   "outputs": [
    {
     "name": "stdout",
     "output_type": "stream",
     "text": [
      "True\n"
     ]
    }
   ],
   "source": [
    "# 25. Write a code to check if the key \"city\" exists in the dictionary {'name': 'Alice', 'city': 'Paris'}\n",
    "person = {'name': 'Alice', 'city': 'Paris'}\n",
    "print(\"city\" in person)"
   ]
  },
  {
   "cell_type": "code",
   "execution_count": 86,
   "id": "890ed72d",
   "metadata": {},
   "outputs": [
    {
     "name": "stdout",
     "output_type": "stream",
     "text": [
      "List: [1, 2, 3]\n",
      "Tuple: (4, 5, 6)\n",
      "Dictionary: {'a': 10, 'b': 20}\n"
     ]
    }
   ],
   "source": [
    "# 26. Write a code to create a list, a tuple, and a dictionary, and print them all\n",
    "my_list = [1, 2, 3]\n",
    "my_tuple = (4, 5, 6)\n",
    "my_dict = {\"a\": 10, \"b\": 20}\n",
    "\n",
    "print(\"List:\", my_list)\n",
    "print(\"Tuple:\", my_tuple)\n",
    "print(\"Dictionary:\", my_dict)"
   ]
  },
  {
   "cell_type": "code",
   "execution_count": 87,
   "id": "1a15e1e9",
   "metadata": {},
   "outputs": [
    {
     "name": "stdout",
     "output_type": "stream",
     "text": [
      "Sorted random numbers: [61, 78, 86, 92, 100]\n"
     ]
    }
   ],
   "source": [
    "# 27. Write a code to create a list of 5 random numbers between 1 and 100, sort it in ascending order, and print the result\n",
    "import random\n",
    "\n",
    "numbers = random.sample(range(1, 101), 5)\n",
    "numbers.sort()\n",
    "print(\"Sorted random numbers:\", numbers)"
   ]
  },
  {
   "cell_type": "code",
   "execution_count": 5,
   "id": "8630a05b",
   "metadata": {},
   "outputs": [
    {
     "name": "stdout",
     "output_type": "stream",
     "text": [
      "Element at third index: the\n"
     ]
    }
   ],
   "source": [
    "# 28. Write a code to create a list with strings and print the element at the third index\n",
    "words = [\"Let\", \"me\", \"cook\", \"the\", \"food\"]\n",
    "print(\"Element at third index:\", words[3])"
   ]
  },
  {
   "cell_type": "code",
   "execution_count": 7,
   "id": "bda9fb65",
   "metadata": {},
   "outputs": [
    {
     "name": "stdout",
     "output_type": "stream",
     "text": [
      "Combined dictionary: {'name': 'Satish', 'age': 25, 'city': 'Delhi', 'country': 'India'}\n"
     ]
    }
   ],
   "source": [
    "# 29. Write a code to combine two dictionaries into one and print the result\n",
    "dict1 = {\"name\": \"Satish\", \"age\": 25}\n",
    "dict2 = {\"city\": \"Delhi\", \"country\": \"India\"}\n",
    "\n",
    "combined = {**dict1, **dict2}\n",
    "print(\"Combined dictionary:\", combined)"
   ]
  },
  {
   "cell_type": "code",
   "execution_count": 8,
   "id": "00216884",
   "metadata": {},
   "outputs": [
    {
     "name": "stdout",
     "output_type": "stream",
     "text": [
      "Unique values as set: {'guava', 'banana', 'mango'}\n"
     ]
    }
   ],
   "source": [
    "# 30. Write a code to convert a list of strings into a set\n",
    "string_list = [\"guava\", \"mango\", \"banana\", \"mango\"]\n",
    "string_set = set(string_list)\n",
    "print(\"Unique values as set:\", string_set)\n"
   ]
  }
 ],
 "metadata": {
  "kernelspec": {
   "display_name": "Python 3",
   "language": "python",
   "name": "python3"
  },
  "language_info": {
   "codemirror_mode": {
    "name": "ipython",
    "version": 3
   },
   "file_extension": ".py",
   "mimetype": "text/x-python",
   "name": "python",
   "nbconvert_exporter": "python",
   "pygments_lexer": "ipython3",
   "version": "3.13.5"
  }
 },
 "nbformat": 4,
 "nbformat_minor": 5
}
